{
 "cells": [
  {
   "cell_type": "code",
   "execution_count": null,
   "id": "6282e670",
   "metadata": {},
   "outputs": [],
   "source": [
    "import pandas as pd\n",
    "import numpy as np\n",
    "import seaborn as sns\n",
    "import matplotlib.pyplot as plt"
   ]
  },
  {
   "cell_type": "markdown",
   "id": "852feb7f",
   "metadata": {},
   "source": [
    "1.Data exploration and Cleaning"
   ]
  },
  {
   "cell_type": "code",
   "execution_count": null,
   "id": "3d8ea3e8",
   "metadata": {},
   "outputs": [],
   "source": [
    "#read the csv file\n",
    "df = pd.read_csv('crop_yield.csv')\n",
    "df.head()\n"
   ]
  },
  {
   "cell_type": "code",
   "execution_count": null,
   "id": "c1382fa7",
   "metadata": {},
   "outputs": [],
   "source": [
    "df.describe() #describe the dataset in terms of mean,count, min and max value"
   ]
  },
  {
   "cell_type": "code",
   "execution_count": null,
   "id": "4711fdd2",
   "metadata": {},
   "outputs": [],
   "source": [
    "df.isnull().sum() #show if there is any null value present"
   ]
  },
  {
   "cell_type": "code",
   "execution_count": null,
   "id": "bb58b1db",
   "metadata": {},
   "outputs": [],
   "source": [
    "df.isnull().mean() # show if there is any null value in terms of mean"
   ]
  },
  {
   "cell_type": "code",
   "execution_count": null,
   "id": "be3d20f4",
   "metadata": {},
   "outputs": [],
   "source": [
    "df.mean() #Mean value of dataset"
   ]
  },
  {
   "cell_type": "code",
   "execution_count": null,
   "id": "9d811050",
   "metadata": {},
   "outputs": [],
   "source": [
    "df.median() #median value of the dataset"
   ]
  },
  {
   "cell_type": "code",
   "execution_count": null,
   "id": "4ed88639",
   "metadata": {},
   "outputs": [],
   "source": [
    "df['Crop'].mode() #mode of the dataset"
   ]
  },
  {
   "cell_type": "code",
   "execution_count": null,
   "id": "f4bd9253",
   "metadata": {},
   "outputs": [],
   "source": [
    "df['Area'].std()"
   ]
  },
  {
   "cell_type": "code",
   "execution_count": null,
   "id": "92b027ee",
   "metadata": {},
   "outputs": [],
   "source": [
    "df.duplicated().sum() #if there is any duplicate values"
   ]
  },
  {
   "cell_type": "markdown",
   "id": "67189373",
   "metadata": {},
   "source": [
    "2.Data Visualization and EDA"
   ]
  },
  {
   "cell_type": "code",
   "execution_count": null,
   "id": "51c4862e",
   "metadata": {},
   "outputs": [],
   "source": [
    "plt.scatter(df['Yield'],df['Annual_Rainfall'],color='Green',marker = 'o') #Yield vs rainfall graph\n",
    "plt.ylabel('Annual_Rainfall')\n",
    "plt.xlabel('Crop_Yield')\n",
    "plt.title('Crop_yield vs Annual_Rainfall graph')\n",
    "plt.show()"
   ]
  },
  {
   "cell_type": "code",
   "execution_count": null,
   "id": "9fd678c7",
   "metadata": {},
   "outputs": [],
   "source": [
    "plt.scatter(df['Crop_Year'],df['Annual_Rainfall'],color='Red',marker = 'o')\n",
    "plt.ylabel('Annual_Rainfall')\n",
    "plt.xlabel('Crop_Year')\n",
    "plt.title('Crop_yield vs Annual_Rainfall graph')\n",
    "plt.show()"
   ]
  },
  {
   "cell_type": "code",
   "execution_count": null,
   "id": "bdcebcc8",
   "metadata": {},
   "outputs": [],
   "source": [
    "sns.barplot(x=df['Season'],y=df['Production'], data=df , palette='viridis') #Season vs Production graph \n",
    "plt.title('season vs production Graph')\n",
    "plt.xlabel('Season')\n",
    "plt.ylabel('Production')\n",
    "plt.show()"
   ]
  },
  {
   "cell_type": "code",
   "execution_count": null,
   "id": "7c1b9377",
   "metadata": {},
   "outputs": [],
   "source": [
    "sns.barplot(x=df['Season'],y=df['Yield'], data=df , palette='mako') #Season vs Production graph \n",
    "plt.title('season vs Yield Graph')\n",
    "plt.xlabel('Season')\n",
    "plt.ylabel('Yield')\n",
    "plt.show()"
   ]
  },
  {
   "cell_type": "code",
   "execution_count": null,
   "id": "deafe1d2",
   "metadata": {},
   "outputs": [],
   "source": [
    "sns.barplot(x=df['Annual_Rainfall'],y=df['State'], data=df , palette='Oranges') #Season vs yield graph \n",
    "plt.title('season vs Yield Graph')\n",
    "plt.xlabel('Annual_Rainfall')\n",
    "plt.ylabel('State')\n",
    "plt.show()"
   ]
  },
  {
   "cell_type": "code",
   "execution_count": null,
   "id": "5f5229e8",
   "metadata": {},
   "outputs": [],
   "source": [
    "df.corr()"
   ]
  },
  {
   "cell_type": "code",
   "execution_count": null,
   "id": "97c5c8f0",
   "metadata": {},
   "outputs": [],
   "source": [
    "corr = df[['Yield', 'Annual_Rainfall', 'State', 'Season']].corr()\n",
    "sns.heatmap(corr, annot=True, cmap='coolwarm', fmt='.2f')\n",
    "plt.title('Correlation Heatmap')\n",
    "plt.show()"
   ]
  },
  {
   "cell_type": "markdown",
   "id": "50ed8580",
   "metadata": {},
   "source": [
    "1.Hypothesis testing and ANOVA Perform"
   ]
  },
  {
   "cell_type": "code",
   "execution_count": null,
   "id": "80161470",
   "metadata": {},
   "outputs": [],
   "source": [
    "#Perform Two sample T-test  between state and yield"
   ]
  },
  {
   "cell_type": "code",
   "execution_count": null,
   "id": "3118368c",
   "metadata": {},
   "outputs": [],
   "source": [
    "state_a_yield = df[df['State'] == 'Assam']['Yield']\n",
    "state_b_yield = df[df['State'] == 'Nagaland']['Yield']"
   ]
  },
  {
   "cell_type": "code",
   "execution_count": null,
   "id": "f60939c7",
   "metadata": {},
   "outputs": [],
   "source": [
    "from scipy.stats import ttest_ind"
   ]
  },
  {
   "cell_type": "code",
   "execution_count": null,
   "id": "dabe505c",
   "metadata": {},
   "outputs": [],
   "source": [
    "t_stat,p_value = ttest_ind(state_a_yield,state_b_yield)"
   ]
  },
  {
   "cell_type": "code",
   "execution_count": null,
   "id": "7a5b4b64",
   "metadata": {},
   "outputs": [],
   "source": [
    "print(f\"t_statistic: {t_stat:.2f}\")\n",
    "print(f\"p_value: {p_value: .4f}\")"
   ]
  },
  {
   "cell_type": "code",
   "execution_count": null,
   "id": "ae87bb0f",
   "metadata": {},
   "outputs": [],
   "source": [
    "if p_value < 0.05:\n",
    "    print(\"Reject the null hypothesis: There is a significant difference in average crop yields between State_A and State_B.\")\n",
    "else:\n",
    "    print(\"Fail to reject the null hypothesis: No significant difference in average crop yields between State_A and State_B.\")"
   ]
  },
  {
   "cell_type": "markdown",
   "id": "c1c97e85",
   "metadata": {},
   "source": [
    "ANOVA TEST"
   ]
  },
  {
   "cell_type": "code",
   "execution_count": null,
   "id": "d9caf555",
   "metadata": {},
   "outputs": [],
   "source": [
    "from scipy.stats import f_oneway"
   ]
  },
  {
   "cell_type": "code",
   "execution_count": null,
   "id": "0067fc44",
   "metadata": {},
   "outputs": [],
   "source": [
    "States = df['State'].unique()"
   ]
  },
  {
   "cell_type": "code",
   "execution_count": null,
   "id": "a9e44c31",
   "metadata": {},
   "outputs": [],
   "source": [
    "yield_data_by_state = [df[df['State'] == 'State']['Yield'] for State in States]"
   ]
  },
  {
   "cell_type": "code",
   "execution_count": null,
   "id": "c2097df0",
   "metadata": {},
   "outputs": [],
   "source": [
    "f_stat,p_value = f_oneway(*yield_data_by_state)"
   ]
  },
  {
   "cell_type": "code",
   "execution_count": null,
   "id": "74779230",
   "metadata": {},
   "outputs": [],
   "source": [
    "print(f\"F-statistic: {f_stat:.2f}\")\n",
    "print(f\"P-value: {p_value:.4f}\")\n"
   ]
  },
  {
   "cell_type": "code",
   "execution_count": null,
   "id": "93445e48",
   "metadata": {},
   "outputs": [],
   "source": [
    "if p_value < 0.05:\n",
    "    print(\"Reject the null hypothesis: There is a significant difference in crop yields across different states.\")\n",
    "else:\n",
    "    print(\"Fail to reject the null hypothesis: No significant difference in crop yields across different states.\")"
   ]
  },
  {
   "cell_type": "markdown",
   "id": "523b6428",
   "metadata": {},
   "source": [
    "Correlation Matrix"
   ]
  },
  {
   "cell_type": "code",
   "execution_count": null,
   "id": "f92c9f9d",
   "metadata": {},
   "outputs": [],
   "source": [
    "corr_matrix = df[['Yield', 'Annual_Rainfall', 'Area', 'Production']].corr()"
   ]
  },
  {
   "cell_type": "code",
   "execution_count": null,
   "id": "e1a526bf",
   "metadata": {},
   "outputs": [],
   "source": [
    "print(corr_matrix)"
   ]
  },
  {
   "cell_type": "markdown",
   "id": "faf9f8ff",
   "metadata": {},
   "source": [
    "Simple linear regression and Multiple linear regression analysis"
   ]
  },
  {
   "cell_type": "code",
   "execution_count": null,
   "id": "8feee83f",
   "metadata": {},
   "outputs": [],
   "source": [
    "import statsmodels.api as sm\n"
   ]
  },
  {
   "cell_type": "code",
   "execution_count": null,
   "id": "4ba48061",
   "metadata": {},
   "outputs": [],
   "source": [
    "x = df['Annual_Rainfall']\n",
    "y= df['Yield']"
   ]
  },
  {
   "cell_type": "code",
   "execution_count": null,
   "id": "76ecb8f9",
   "metadata": {},
   "outputs": [],
   "source": [
    "X = sm.add_constant(x)"
   ]
  },
  {
   "cell_type": "code",
   "execution_count": null,
   "id": "f98fd322",
   "metadata": {},
   "outputs": [],
   "source": [
    "model = sm.OLS(x,y).fit()"
   ]
  },
  {
   "cell_type": "code",
   "execution_count": null,
   "id": "26b309dc",
   "metadata": {},
   "outputs": [],
   "source": [
    "print(model.summary())"
   ]
  },
  {
   "cell_type": "code",
   "execution_count": null,
   "id": "80f983f3",
   "metadata": {},
   "outputs": [],
   "source": [
    "#Multiple Linear Regression\n",
    "x = df[['Annual_Rainfall','Area','Production']]\n",
    "y = df['Yield']"
   ]
  },
  {
   "cell_type": "code",
   "execution_count": null,
   "id": "28f334e0",
   "metadata": {},
   "outputs": [],
   "source": [
    "X = sm.add_constant(x)"
   ]
  },
  {
   "cell_type": "code",
   "execution_count": null,
   "id": "d595de3d",
   "metadata": {},
   "outputs": [],
   "source": [
    "model = sm.OLS(y,x).fit()"
   ]
  },
  {
   "cell_type": "code",
   "execution_count": null,
   "id": "0ccb81db",
   "metadata": {},
   "outputs": [],
   "source": [
    "print(model.summary())"
   ]
  },
  {
   "cell_type": "markdown",
   "id": "fdffff93",
   "metadata": {},
   "source": [
    "Model training and Prediction for regression models"
   ]
  },
  {
   "cell_type": "code",
   "execution_count": null,
   "id": "bb1d8a22",
   "metadata": {},
   "outputs": [],
   "source": [
    "x = df[['Area','Annual_Rainfall','Production']]\n",
    "y = df['Yield']"
   ]
  },
  {
   "cell_type": "code",
   "execution_count": null,
   "id": "fbbef183",
   "metadata": {},
   "outputs": [],
   "source": [
    "from sklearn.model_selection import train_test_split\n",
    "x_test,x_train,y_test,y_train = train_test_split(x,y,test_size=0.2,random_state=42)"
   ]
  },
  {
   "cell_type": "code",
   "execution_count": null,
   "id": "f509142b",
   "metadata": {},
   "outputs": [],
   "source": [
    "from sklearn.linear_model import LinearRegression\n",
    "from sklearn.ensemble import RandomForestRegressor\n",
    "from sklearn.ensemble import GradientBoostingRegressor\n",
    "from sklearn.metrics import mean_squared_error,mean_absolute_error,r2_score,accuracy_score"
   ]
  },
  {
   "cell_type": "code",
   "execution_count": null,
   "id": "6abd5636",
   "metadata": {},
   "outputs": [],
   "source": [
    "lr_model = LinearRegression()\n",
    "rf_model = RandomForestRegressor(n_estimators=100 , random_state=42)\n",
    "gbr_model = GradientBoostingRegressor(n_estimators=100,learning_rate=0.1 ,max_depth=3,random_state=42 )"
   ]
  },
  {
   "cell_type": "code",
   "execution_count": null,
   "id": "2d7cf8c6",
   "metadata": {},
   "outputs": [],
   "source": [
    "lr_model.fit(x_train,y_train)\n",
    "rf_model.fit(x_train,y_train)\n",
    "gbr_model.fit(x_train,y_train)"
   ]
  },
  {
   "cell_type": "code",
   "execution_count": null,
   "id": "e48dbda0",
   "metadata": {},
   "outputs": [],
   "source": [
    "y_pred = lr_model.predict(x_test)\n",
    "y_pred = rf_model.predict(x_test)\n",
    "y_pred = gbr_model.predict(x_test)\n"
   ]
  },
  {
   "cell_type": "code",
   "execution_count": null,
   "id": "5ca843dc",
   "metadata": {},
   "outputs": [],
   "source": [
    "mse = mean_squared_error(y_test,y_pred)\n",
    "mae  = mean_absolute_error(y_test,y_pred)\n",
    "r2 = r2_score(y_test,y_pred)"
   ]
  },
  {
   "cell_type": "code",
   "execution_count": null,
   "id": "c4d0fd8b",
   "metadata": {},
   "outputs": [],
   "source": [
    "print(f\"mean_absolute_error(MSE): {mse:.2f}\")\n",
    "print(f\"mean_squared_error(MAE):{mae:.2f}\")\n",
    "print(f\"r2_score(R2): {r2:.2f}\")"
   ]
  },
  {
   "cell_type": "markdown",
   "id": "21ab77c1",
   "metadata": {},
   "source": []
  },
  {
   "cell_type": "code",
   "execution_count": null,
   "id": "2c3a4472",
   "metadata": {},
   "outputs": [],
   "source": []
  },
  {
   "cell_type": "code",
   "execution_count": null,
   "id": "c4251ccd",
   "metadata": {},
   "outputs": [],
   "source": []
  },
  {
   "cell_type": "code",
   "execution_count": null,
   "id": "cf83c9d6",
   "metadata": {},
   "outputs": [],
   "source": []
  },
  {
   "cell_type": "code",
   "execution_count": null,
   "id": "b48661a0",
   "metadata": {},
   "outputs": [],
   "source": []
  },
  {
   "cell_type": "code",
   "execution_count": null,
   "id": "a8c3dc5b",
   "metadata": {},
   "outputs": [],
   "source": [
    "\n"
   ]
  },
  {
   "cell_type": "code",
   "execution_count": null,
   "id": "be111faf",
   "metadata": {},
   "outputs": [],
   "source": []
  },
  {
   "cell_type": "code",
   "execution_count": null,
   "id": "f0b341bd",
   "metadata": {},
   "outputs": [],
   "source": []
  },
  {
   "cell_type": "code",
   "execution_count": null,
   "id": "849d945a",
   "metadata": {},
   "outputs": [],
   "source": []
  },
  {
   "cell_type": "code",
   "execution_count": null,
   "id": "4460f1a2",
   "metadata": {},
   "outputs": [],
   "source": []
  }
 ],
 "metadata": {
  "kernelspec": {
   "display_name": "Python 3 (ipykernel)",
   "language": "python",
   "name": "python3"
  },
  "language_info": {
   "codemirror_mode": {
    "name": "ipython",
    "version": 3
   },
   "file_extension": ".py",
   "mimetype": "text/x-python",
   "name": "python",
   "nbconvert_exporter": "python",
   "pygments_lexer": "ipython3",
   "version": "3.10.9"
  }
 },
 "nbformat": 4,
 "nbformat_minor": 5
}
